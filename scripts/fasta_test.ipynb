{
 "cells": [
  {
   "cell_type": "code",
   "execution_count": null,
   "metadata": {},
   "outputs": [],
   "source": [
    "from Bio import SeqIO\n"
   ]
  },
  {
   "cell_type": "code",
   "execution_count": null,
   "metadata": {},
   "outputs": [],
   "source": [
    "print(\"---------------------------------------------\")\n",
    "print(\"Loading genome sequences.\")\n",
    "seq_dict = {}\n",
    "for record in SeqIO.parse():\n",
    "    seq_dict[record.id] = record.seq\n",
    "    print(record.id + \" len is \" + str(len(record.seq)))"
   ]
  }
 ],
 "metadata": {
  "kernelspec": {
   "display_name": "riboformer",
   "language": "python",
   "name": "python3"
  },
  "language_info": {
   "name": "python",
   "version": "3.9.7"
  }
 },
 "nbformat": 4,
 "nbformat_minor": 2
}
